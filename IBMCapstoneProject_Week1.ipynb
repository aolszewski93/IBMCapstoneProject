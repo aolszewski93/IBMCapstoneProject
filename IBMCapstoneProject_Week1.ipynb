{
 "cells": [
  {
   "cell_type": "markdown",
   "metadata": {},
   "source": [
    "## Introduction / Business Problem ##\n",
    "&emsp; The average person in the United States moves around 11 times in their lifetime.  A person may have to move for family or a job opportunity. Relocation is especially prominent for large tech and consulting firms that have locations in large cities.  Sometimes this move has to be done without a prior visit or enough time to research neighborhoods and can result in someone moving to a neighborhood lacking.  If a given person has found a neighborhood in their current city that has what they need to be comfortable, it would be nice to find a similar neighborhood in the city that they are moving to.  This neighborhood would have similar amenities such as parks, schools, restaurants, and businesses. \n",
    "<br>\n",
    "&emsp; In this project, we will be using machine learning to group like neighborhoods in San Francisco, New York City, Chicago, and Toronto in order that persons moving between them can find the most familiar and comfortable living situation possible. "
   ]
  },
  {
   "cell_type": "markdown",
   "metadata": {},
   "source": [
    "\n"
   ]
  },
  {
   "cell_type": "markdown",
   "metadata": {},
   "source": []
  },
  {
   "cell_type": "code",
   "execution_count": null,
   "metadata": {},
   "outputs": [],
   "source": []
  }
 ],
 "metadata": {
  "kernelspec": {
   "display_name": "Python 3",
   "language": "python",
   "name": "python3"
  },
  "language_info": {
   "codemirror_mode": {
    "name": "ipython",
    "version": 3
   },
   "file_extension": ".py",
   "mimetype": "text/x-python",
   "name": "python",
   "nbconvert_exporter": "python",
   "pygments_lexer": "ipython3",
   "version": "3.7.3"
  }
 },
 "nbformat": 4,
 "nbformat_minor": 2
}
