{
 "cells": [
  {
   "cell_type": "markdown",
   "metadata": {},
   "source": [
    "## Introduction / Business Problem ##\n",
    "&emsp; The average person in the United States moves around 11 times in their lifetime.  A person may have to move for family or a job opportunity. Relocation is especially prominent for large tech and consulting firms that have locations in large cities.  Sometimes this move has to be done without a prior visit or enough time to research neighborhoods and can result in someone moving to a neighborhood lacking.  If a given person has found a neighborhood in their current city that has what they need to be comfortable, it would be nice to find a similar neighborhood in the city that they are moving to.  This neighborhood would have similar amenities such as parks, schools, restaurants, and businesses. \n",
    "<br>\n",
    "&emsp; In this project, we will be using machine learning to group like neighborhoods in San Francisco, New York City, Chicago, and Toronto in order that persons moving between them can find the most familiar and comfortable living situation possible. "
   ]
  },
  {
   "cell_type": "markdown",
   "metadata": {},
   "source": [
    "## Data ##\n",
    "&emsp; Neighborhood data used in this project will be obtained using the Foursquare API. We will be collecting the top 10 neighborhood attributes from each neighborhoods. Listed neighborhoods will be scraped off of tables on a variety of wikipedia pages. All of this data will be merged and collected into a single data frame using the pandas library in Python.\n",
    "<br>\n",
    "<br>\n",
    "Chicago Neighborhoods: https://en.wikipedia.org/wiki/List_of_neighborhoods_in_Chicago\n",
    "<br>Toronto Neighborhoods: https://en.wikipedia.org/wiki/List_of_postal_codes_of_Canada:_M\n",
    "<br>New York Neighborhoods: https://geo.nyu.edu/catalog/nyu_2451_34572\n",
    "<br>San Francisco Neighborhoods: https://en.wikipedia.org/wiki/Category:Neighborhoods_in_San_Francisco\n",
    "\n",
    "&emsp;The latitude and longitude data for each neighborhood can be found using the geocoder package in python.  This package pulls latitude and longitude coordinates from Google. Documentation for this package can be found at https://geocoder.readthedocs.io \n",
    "Because this package has been known to be inconsistent at being able to gather data, some cities may have to have lat long entered via csv file.\n",
    "\n",
    "\n",
    "Toronto Nieghborhoods GeoLoc: Geospatial_Coordinates.csv\n"
   ]
  },
  {
   "cell_type": "markdown",
   "metadata": {},
   "source": []
  },
  {
   "cell_type": "code",
   "execution_count": null,
   "metadata": {},
   "outputs": [],
   "source": []
  }
 ],
 "metadata": {
  "kernelspec": {
   "display_name": "Python 3",
   "language": "python",
   "name": "python3"
  },
  "language_info": {
   "codemirror_mode": {
    "name": "ipython",
    "version": 3
   },
   "file_extension": ".py",
   "mimetype": "text/x-python",
   "name": "python",
   "nbconvert_exporter": "python",
   "pygments_lexer": "ipython3",
   "version": "3.7.3"
  }
 },
 "nbformat": 4,
 "nbformat_minor": 2
}
